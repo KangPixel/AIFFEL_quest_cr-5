{
  "nbformat": 4,
  "nbformat_minor": 0,
  "metadata": {
    "colab": {
      "provenance": [],
      "include_colab_link": true
    },
    "kernelspec": {
      "name": "python3",
      "display_name": "Python 3"
    },
    "language_info": {
      "name": "python"
    }
  },
  "cells": [
    {
      "cell_type": "markdown",
      "metadata": {
        "id": "view-in-github",
        "colab_type": "text"
      },
      "source": [
        "<a href=\"https://colab.research.google.com/github/eunhaday/AIFFEL_quest_cr/blob/master/Python/SQUest01/20240822.ipynb\" target=\"_parent\"><img src=\"https://colab.research.google.com/assets/colab-badge.svg\" alt=\"Open In Colab\"/></a>"
      ]
    },
    {
      "cell_type": "markdown",
      "source": [
        "# 회문인지 아닌지 확인하는 프로그램\n",
        "----\n",
        "회문: 앞으로 읽어도 뒤로 읽어도 같은 단어, 구, 문장, 숫자, 문단\n",
        "\n",
        "조건\n",
        "1. 단어를 입력받을 수 있게 한다.\n",
        "2. 입력된 단어를 뒤집어서 출력할 수 있게 한다.\n",
        "3. 입력된 단어가 회문이 맞는지 확인하여 출력할 수 있게 한다.\n",
        "4. 자료형, 제어문, 함수를 활용\n",
        "\n",
        "\n",
        "출력값 예시\n",
        "========\n",
        "입력값: 우성우\n",
        "출력값:\n",
        "뒤집힌 단어는: 우성우\n",
        "---\n",
        "입력한 단어는 회문입니다."
      ],
      "metadata": {
        "id": "4sCHCc0jt9Uc"
      }
    },
    {
      "cell_type": "code",
      "source": [],
      "metadata": {
        "id": "6I90aLIKJ1MW"
      },
      "execution_count": null,
      "outputs": []
    },
    {
      "cell_type": "code",
      "source": [
        "def palindrome():\n",
        "\n",
        "  # 조건1. 단어를 입력받을 수 있게 한다.\n",
        "  word = input(\"단어를 입력하세요: \")  # 조건4-1. 식별자 자료형 str 사용\n",
        "  print(\"입력값: \",  word)\n",
        "\n",
        "  # 2. 입력된 단어를 뒤집어서 출력할 수 있게 한다.\n",
        "  print(\"뒤집힌 단어는:\", word[::-1])\n",
        "\n",
        "  # 3. 입력된 단어가 회문이 맞는지 확인하여 출력할 수 있게 한다.\n",
        "  if word == word[::-1]: # 조건4-2. 제어문(if) 활용\n",
        "    print(\"입력한 단어는 회문입니다.\")\n",
        "  else:\n",
        "    print(\"입력한 단어는 회문이 아닙니다.\")\n",
        "\n",
        "palindrome()"
      ],
      "metadata": {
        "id": "NcL49jRnuE-_",
        "colab": {
          "base_uri": "https://localhost:8080/"
        },
        "outputId": "0e7a684f-bfbf-4b82-9521-0700e65ad34f"
      },
      "execution_count": 2,
      "outputs": [
        {
          "output_type": "stream",
          "name": "stdout",
          "text": [
            "단어를 입력하세요: 기린이린기\n",
            "입력값:  기린이린기\n",
            "뒤집힌 단어는: 기린이린기\n",
            "입력한 단어는 회문입니다.\n"
          ]
        }
      ]
    },
    {
      "cell_type": "code",
      "source": [],
      "metadata": {
        "id": "mtzxjEIkxXFo"
      },
      "execution_count": null,
      "outputs": []
    }
  ]
}