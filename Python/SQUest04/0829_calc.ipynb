{
  "nbformat": 4,
  "nbformat_minor": 0,
  "metadata": {
    "colab": {
      "provenance": [],
      "authorship_tag": "ABX9TyOFzcFhgS1y2ub+cf2ANV9l",
      "include_colab_link": true
    },
    "kernelspec": {
      "name": "python3",
      "display_name": "Python 3"
    },
    "language_info": {
      "name": "python"
    }
  },
  "cells": [
    {
      "cell_type": "markdown",
      "metadata": {
        "id": "view-in-github",
        "colab_type": "text"
      },
      "source": [
        "<a href=\"https://colab.research.google.com/github/eunhaday/AIFFEL_quest_cr/blob/master/Python/SQUest04/0829_calc.ipynb\" target=\"_parent\"><img src=\"https://colab.research.google.com/assets/colab-badge.svg\" alt=\"Open In Colab\"/></a>"
      ]
    },
    {
      "cell_type": "code",
      "execution_count": null,
      "metadata": {
        "id": "tRWH4Lpns-LD"
      },
      "outputs": [],
      "source": [
        "\n",
        "\n"
      ]
    },
    {
      "cell_type": "code",
      "source": [
        "\n",
        "\n",
        "\n"
      ],
      "metadata": {
        "id": "UMCEcDYty5aD"
      },
      "execution_count": null,
      "outputs": []
    },
    {
      "cell_type": "code",
      "source": [
        "# 정수가 입력될 때 까지 \"잘못된 입력입니다. 정수를 입력해주세요.\"를 출력하며 다시 입력받기를 시도합니다.\n",
        "# 나눗셈 연산시 두 번째 정수가 0인 경우 ZeroDivisionError를 처리하여 적절한 오류 메시지를 출력합니다.\n",
        "# 사용자가 지원하지 않는 연산자를 입력한 경우 적절한 오류 메시지를 출력합니다.\n",
        "# math 모듈을 사용하여 제곱 연산(**)을 지원합니다.\n",
        "# 계산기를 통해 계속 계산을 할 것인지 입력받습니다.\n",
        "\n",
        "import math\n",
        "\n",
        "# 정수가 입력될 때 까지 \"잘못된 입력입니다. 정수를 입력해주세요.\"를 출력하며 다시 입력받기를 시도합니다.\n",
        "def input_calc(prompt):\n",
        "    while True:\n",
        "        try:\n",
        "            num = int(input(prompt))\n",
        "            return num\n",
        "        except ValueError:\n",
        "            print(\"잘못된 입력입니다. 정수를 입력해주세요.\")\n",
        "\n",
        "\n",
        "def math_calc(num1, num2):\n",
        "    calc = input('다음의 연산자 중 하나를 입력해주세요: +, -, *, /, **')\n",
        "\n",
        "    try:\n",
        "        if calc == '+':\n",
        "            result = num1 + num2\n",
        "        elif calc == '-':\n",
        "            result = num1 - num2\n",
        "        elif calc == '*':\n",
        "            result = num1 * num2\n",
        "        elif calc == '/':\n",
        "            result = num1 / num2\n",
        "        elif calc == '**':\n",
        "            # math 모듈을 사용하여 제곱 연산(**)을 지원합니다.\n",
        "            result = math.pow(num1, num2)\n",
        "        else:\n",
        "            # 사용자가 지원하지 않는 연산자를 입력한 경우 적절한 오류 메시지를 출력합니다.\n",
        "            raise TypeError(\"지원하지 않는 연산자입니다.\")\n",
        "\n",
        "        return result\n",
        "    # 나눗셈 연산시 두 번째 정수가 0인 경우 ZeroDivisionError를 처리하여 적절한 오류 메시지를 출력합니다.\n",
        "    except ZeroDivisionError:\n",
        "        print('숫자를 0으로 나눌 수 없습니다.')\n",
        "    except TypeError as e:\n",
        "        print(e)\n",
        "\n",
        "def calc():\n",
        "    while True:\n",
        "        #정수를 2번 입력해야한다. 각각하는 이유는 계산시 앞과 뒤의 정수로 인식해야하기 때문\n",
        "        num1 = input_calc('첫번째 정수를 입력해주세요:')\n",
        "        num2 = input_calc('두번째 정수를 입력해주세요:')\n",
        "        sum1 = math_calc(num1, num2)\n",
        "\n",
        "        #계산기를 통해 계속 계산을 할 것인지 입력받습니다.\n",
        "        while True:\n",
        "            again = input('계속 계산을 하시겠습니까? (y/n): ')\n",
        "            if again.lower() == 'y':\n",
        "                print(\"계산된값은:\", sum1)\n",
        "                print('계산기를 다시 실행합니다.')\n",
        "                break\n",
        "            elif again.lower() == 'n':\n",
        "                print('수행된값:',sum1)\n",
        "                return\n",
        "            else:\n",
        "                print(\"잘못된 입력입니다. 'y' 또는 'n'을 입력해주세요.\")\n",
        "\n",
        "\n",
        "calc()\n"
      ],
      "metadata": {
        "colab": {
          "base_uri": "https://localhost:8080/"
        },
        "id": "2tBKDtbRA7Vk",
        "outputId": "a9f08140-5279-4a00-ddf8-3783e2645e18"
      },
      "execution_count": 8,
      "outputs": [
        {
          "output_type": "stream",
          "name": "stdout",
          "text": [
            "첫번째 정수를 입력해주세요:1\n",
            "두번째 정수를 입력해주세요:5\n",
            "다음의 연산자 중 하나를 입력해주세요: +, -, *, /, **/\n",
            "계속 계산을 하시겠습니까? (y/n): y\n",
            "계산된값은: 0.2\n",
            "계산기를 다시 실행합니다.\n",
            "첫번째 정수를 입력해주세요:2\n",
            "두번째 정수를 입력해주세요:6\n",
            "다음의 연산자 중 하나를 입력해주세요: +, -, *, /, **-\n",
            "계속 계산을 하시겠습니까? (y/n): n\n",
            "수행된값: -4\n"
          ]
        }
      ]
    },
    {
      "cell_type": "code",
      "source": [],
      "metadata": {
        "id": "-CBSSVxIBVr6"
      },
      "execution_count": null,
      "outputs": []
    }
  ]
}