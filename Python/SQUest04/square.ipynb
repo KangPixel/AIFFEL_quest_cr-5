{
  "nbformat": 4,
  "nbformat_minor": 0,
  "metadata": {
    "colab": {
      "provenance": [],
      "authorship_tag": "ABX9TyONSlplT4VjFXDL6nu/4iSH",
      "include_colab_link": true
    },
    "kernelspec": {
      "name": "python3",
      "display_name": "Python 3"
    },
    "language_info": {
      "name": "python"
    }
  },
  "cells": [
    {
      "cell_type": "markdown",
      "metadata": {
        "id": "view-in-github",
        "colab_type": "text"
      },
      "source": [
        "<a href=\"https://colab.research.google.com/github/eunhaday/AIFFEL_quest_cr/blob/master/Python/SQUest04/square.ipynb\" target=\"_parent\"><img src=\"https://colab.research.google.com/assets/colab-badge.svg\" alt=\"Open In Colab\"/></a>"
      ]
    },
    {
      "cell_type": "code",
      "execution_count": 10,
      "metadata": {
        "colab": {
          "base_uri": "https://localhost:8080/"
        },
        "id": "EMJbqgrnYH9C",
        "outputId": "4d479268-d152-4f4a-e6f0-06ec93463a7f"
      },
      "outputs": [
        {
          "output_type": "stream",
          "name": "stdout",
          "text": [
            "넓이를 구하고 싶은 사각형의 숫자를 써주세요.\n",
            " 1.직사각형 2.평행사변형 3.사다리꼴 \n",
            " >>>3\n",
            "사다리꼴 함수는 trape()입니다.\n",
            "\n",
            "윗변,아랫변,높이를 입력하세요. 예시 : 윗변,아랫변,높이\n",
            " >>>2,5,3\n",
            "사다리꼴의 넓이는 : 10.5\n"
          ]
        }
      ],
      "source": [
        "# 사각형 넓이를 구하는 클래스 완성!\n",
        "class Square:\n",
        "\n",
        "    def __init__(self):\n",
        "        self.square = int(input('넓이를 구하고 싶은 사각형의 숫자를 써주세요.\\n 1.직사각형 2.평행사변형 3.사다리꼴 \\n >>>'))\n",
        "\n",
        "        if self.square == 1:\n",
        "            print('직사각형 함수는 rect()입니다.')\n",
        "            self.rect()\n",
        "\n",
        "        elif self.square == 2:\n",
        "            print('평행사변형 함수는 par()입니다.\\n')\n",
        "            self.par()\n",
        "\n",
        "        elif self.square == 3:\n",
        "            print('사다리꼴 함수는 trape()입니다.\\n')\n",
        "            self.trape()\n",
        "\n",
        "        else:\n",
        "            print('1, 2, 3 중에서 다시 입력해주세요\\n')\n",
        "\n",
        "\n",
        "    def rect(self):\n",
        "        width, vertical = map(int, input('가로, 세로를 입력하세요. 예시 : 가로,세로\\n >>>').split(','))\n",
        "        area = width * vertical\n",
        "        result = '직사각형의 넓이는 : ' + str(area)\n",
        "        print(result)\n",
        "\n",
        "\n",
        "    def par(self):\n",
        "        width, vertical = map(int, input('밑변, 높이를 입력하세요. 예시 : 밑변,높이\\n >>>').split(','))\n",
        "        area = width * vertical\n",
        "        result = '평행사변형의 넓이는 : ' + str(area)\n",
        "        print(result)\n",
        "\n",
        "\n",
        "    def trape(self):\n",
        "        upper1, down1, vertical = map(float, input('윗변,아랫변,높이를 입력하세요. 예시 : 윗변,아랫변,높이\\n >>>').split(','))\n",
        "        area = ((upper1 + down1) * vertical / 2)\n",
        "        result = '사다리꼴의 넓이는 : ' + str(area)\n",
        "        print(result)\n",
        "\n",
        "\n",
        "a = Square()  # 객체 생성 & 2, 3을 각각 입력해 봅시다.\n",
        "\n"
      ]
    }
  ]
}